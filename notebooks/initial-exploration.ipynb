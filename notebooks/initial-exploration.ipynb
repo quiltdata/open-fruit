{
 "cells": [
  {
   "cell_type": "markdown",
   "metadata": {},
   "source": [
    "## initial-exploration\n",
    "\n",
    "This notebook is a quick initial EDA of the Google Images V4 dataset. Here I'm mainly downloading and previewing the metadata files, poking around in them a bit, getting some understanding of how to work with them, and saving the files to local disk."
   ]
  },
  {
   "cell_type": "code",
   "execution_count": 1,
   "metadata": {},
   "outputs": [],
   "source": [
    "import pandas as pd\n",
    "\n",
    "train_boxed = pd.read_csv(\n",
    "    \"https://storage.googleapis.com/openimages/2018_04/train/train-annotations-bbox.csv\"\n",
    ")"
   ]
  },
  {
   "cell_type": "markdown",
   "metadata": {},
   "source": [
    "### Boxed images, train set, bounding boxes"
   ]
  },
  {
   "cell_type": "code",
   "execution_count": 2,
   "metadata": {},
   "outputs": [
    {
     "data": {
      "text/html": [
       "<div>\n",
       "<style scoped>\n",
       "    .dataframe tbody tr th:only-of-type {\n",
       "        vertical-align: middle;\n",
       "    }\n",
       "\n",
       "    .dataframe tbody tr th {\n",
       "        vertical-align: top;\n",
       "    }\n",
       "\n",
       "    .dataframe thead th {\n",
       "        text-align: right;\n",
       "    }\n",
       "</style>\n",
       "<table border=\"1\" class=\"dataframe\">\n",
       "  <thead>\n",
       "    <tr style=\"text-align: right;\">\n",
       "      <th></th>\n",
       "      <th>ImageID</th>\n",
       "      <th>Source</th>\n",
       "      <th>LabelName</th>\n",
       "      <th>Confidence</th>\n",
       "      <th>XMin</th>\n",
       "      <th>XMax</th>\n",
       "      <th>YMin</th>\n",
       "      <th>YMax</th>\n",
       "      <th>IsOccluded</th>\n",
       "      <th>IsTruncated</th>\n",
       "      <th>IsGroupOf</th>\n",
       "      <th>IsDepiction</th>\n",
       "      <th>IsInside</th>\n",
       "    </tr>\n",
       "  </thead>\n",
       "  <tbody>\n",
       "    <tr>\n",
       "      <th>0</th>\n",
       "      <td>000002b66c9c498e</td>\n",
       "      <td>xclick</td>\n",
       "      <td>/m/01g317</td>\n",
       "      <td>1</td>\n",
       "      <td>0.012500</td>\n",
       "      <td>0.195312</td>\n",
       "      <td>0.148438</td>\n",
       "      <td>0.587500</td>\n",
       "      <td>0</td>\n",
       "      <td>1</td>\n",
       "      <td>0</td>\n",
       "      <td>0</td>\n",
       "      <td>0</td>\n",
       "    </tr>\n",
       "    <tr>\n",
       "      <th>1</th>\n",
       "      <td>000002b66c9c498e</td>\n",
       "      <td>xclick</td>\n",
       "      <td>/m/01g317</td>\n",
       "      <td>1</td>\n",
       "      <td>0.025000</td>\n",
       "      <td>0.276563</td>\n",
       "      <td>0.714063</td>\n",
       "      <td>0.948438</td>\n",
       "      <td>0</td>\n",
       "      <td>1</td>\n",
       "      <td>0</td>\n",
       "      <td>0</td>\n",
       "      <td>0</td>\n",
       "    </tr>\n",
       "    <tr>\n",
       "      <th>2</th>\n",
       "      <td>000002b66c9c498e</td>\n",
       "      <td>xclick</td>\n",
       "      <td>/m/01g317</td>\n",
       "      <td>1</td>\n",
       "      <td>0.151562</td>\n",
       "      <td>0.310937</td>\n",
       "      <td>0.198437</td>\n",
       "      <td>0.590625</td>\n",
       "      <td>1</td>\n",
       "      <td>0</td>\n",
       "      <td>0</td>\n",
       "      <td>0</td>\n",
       "      <td>0</td>\n",
       "    </tr>\n",
       "    <tr>\n",
       "      <th>3</th>\n",
       "      <td>000002b66c9c498e</td>\n",
       "      <td>xclick</td>\n",
       "      <td>/m/01g317</td>\n",
       "      <td>1</td>\n",
       "      <td>0.256250</td>\n",
       "      <td>0.429688</td>\n",
       "      <td>0.651563</td>\n",
       "      <td>0.925000</td>\n",
       "      <td>1</td>\n",
       "      <td>0</td>\n",
       "      <td>0</td>\n",
       "      <td>0</td>\n",
       "      <td>0</td>\n",
       "    </tr>\n",
       "    <tr>\n",
       "      <th>4</th>\n",
       "      <td>000002b66c9c498e</td>\n",
       "      <td>xclick</td>\n",
       "      <td>/m/01g317</td>\n",
       "      <td>1</td>\n",
       "      <td>0.257812</td>\n",
       "      <td>0.346875</td>\n",
       "      <td>0.235938</td>\n",
       "      <td>0.385938</td>\n",
       "      <td>1</td>\n",
       "      <td>0</td>\n",
       "      <td>0</td>\n",
       "      <td>0</td>\n",
       "      <td>0</td>\n",
       "    </tr>\n",
       "  </tbody>\n",
       "</table>\n",
       "</div>"
      ],
      "text/plain": [
       "            ImageID  Source  LabelName  Confidence      XMin      XMax  \\\n",
       "0  000002b66c9c498e  xclick  /m/01g317           1  0.012500  0.195312   \n",
       "1  000002b66c9c498e  xclick  /m/01g317           1  0.025000  0.276563   \n",
       "2  000002b66c9c498e  xclick  /m/01g317           1  0.151562  0.310937   \n",
       "3  000002b66c9c498e  xclick  /m/01g317           1  0.256250  0.429688   \n",
       "4  000002b66c9c498e  xclick  /m/01g317           1  0.257812  0.346875   \n",
       "\n",
       "       YMin      YMax  IsOccluded  IsTruncated  IsGroupOf  IsDepiction  \\\n",
       "0  0.148438  0.587500           0            1          0            0   \n",
       "1  0.714063  0.948438           0            1          0            0   \n",
       "2  0.198437  0.590625           1            0          0            0   \n",
       "3  0.651563  0.925000           1            0          0            0   \n",
       "4  0.235938  0.385938           1            0          0            0   \n",
       "\n",
       "   IsInside  \n",
       "0         0  \n",
       "1         0  \n",
       "2         0  \n",
       "3         0  \n",
       "4         0  "
      ]
     },
     "execution_count": 2,
     "metadata": {},
     "output_type": "execute_result"
    }
   ],
   "source": [
    "train_boxed.head()"
   ]
  },
  {
   "cell_type": "markdown",
   "metadata": {},
   "source": [
    "`xclick` is manually drawn boxes, `activemil` is boxes drawn using an augmented image labeling technique which have been human-verified to have >= 0.7 IoU accuracy."
   ]
  },
  {
   "cell_type": "code",
   "execution_count": 3,
   "metadata": {},
   "outputs": [
    {
     "data": {
      "text/plain": [
       "xclick       13050532\n",
       "activemil     1559697\n",
       "Name: Source, dtype: int64"
      ]
     },
     "execution_count": 3,
     "metadata": {},
     "output_type": "execute_result"
    }
   ],
   "source": [
    "train_boxed['Source'].value_counts()"
   ]
  },
  {
   "cell_type": "code",
   "execution_count": 4,
   "metadata": {
    "scrolled": true
   },
   "outputs": [
    {
     "data": {
      "text/plain": [
       "/m/09j2d     1438128\n",
       "/m/04yx4     1418594\n",
       "/m/07j7r     1051344\n",
       "/m/0dzct     1037710\n",
       "/m/01g317    1034721\n",
       "Name: LabelName, dtype: int64"
      ]
     },
     "execution_count": 4,
     "metadata": {},
     "output_type": "execute_result"
    }
   ],
   "source": [
    "train_boxed['LabelName'].value_counts().head()"
   ]
  },
  {
   "cell_type": "markdown",
   "metadata": {},
   "source": [
    "For the elements below 1 is present, 0 is not present, and -1 is unknown."
   ]
  },
  {
   "cell_type": "code",
   "execution_count": 5,
   "metadata": {},
   "outputs": [
    {
     "data": {
      "text/plain": [
       "1    14610229\n",
       "Name: Confidence, dtype: int64"
      ]
     },
     "execution_count": 5,
     "metadata": {},
     "output_type": "execute_result"
    }
   ],
   "source": [
    "train_boxed['Confidence'].value_counts()"
   ]
  },
  {
   "cell_type": "code",
   "execution_count": 6,
   "metadata": {},
   "outputs": [
    {
     "data": {
      "text/plain": [
       " 1    9651132\n",
       " 0    4937226\n",
       "-1      21871\n",
       "Name: IsOccluded, dtype: int64"
      ]
     },
     "execution_count": 6,
     "metadata": {},
     "output_type": "execute_result"
    }
   ],
   "source": [
    "train_boxed['IsOccluded'].value_counts()"
   ]
  },
  {
   "cell_type": "code",
   "execution_count": 7,
   "metadata": {},
   "outputs": [
    {
     "data": {
      "text/plain": [
       " 0    10922480\n",
       " 1     3665878\n",
       "-1       21871\n",
       "Name: IsTruncated, dtype: int64"
      ]
     },
     "execution_count": 7,
     "metadata": {},
     "output_type": "execute_result"
    }
   ],
   "source": [
    "train_boxed['IsTruncated'].value_counts()"
   ]
  },
  {
   "cell_type": "code",
   "execution_count": 8,
   "metadata": {},
   "outputs": [
    {
     "data": {
      "text/plain": [
       " 0    13713801\n",
       " 1      874557\n",
       "-1       21871\n",
       "Name: IsGroupOf, dtype: int64"
      ]
     },
     "execution_count": 8,
     "metadata": {},
     "output_type": "execute_result"
    }
   ],
   "source": [
    "train_boxed['IsGroupOf'].value_counts()"
   ]
  },
  {
   "cell_type": "code",
   "execution_count": 9,
   "metadata": {},
   "outputs": [
    {
     "data": {
      "text/plain": [
       " 0    13791999\n",
       " 1      796359\n",
       "-1       21871\n",
       "Name: IsDepiction, dtype: int64"
      ]
     },
     "execution_count": 9,
     "metadata": {},
     "output_type": "execute_result"
    }
   ],
   "source": [
    "train_boxed['IsDepiction'].value_counts()"
   ]
  },
  {
   "cell_type": "code",
   "execution_count": 10,
   "metadata": {},
   "outputs": [
    {
     "data": {
      "text/plain": [
       " 0    14552771\n",
       " 1       35587\n",
       "-1       21871\n",
       "Name: IsInside, dtype: int64"
      ]
     },
     "execution_count": 10,
     "metadata": {},
     "output_type": "execute_result"
    }
   ],
   "source": [
    "train_boxed['IsInside'].value_counts()"
   ]
  },
  {
   "cell_type": "code",
   "execution_count": 11,
   "metadata": {},
   "outputs": [],
   "source": [
    "train_annotations = pd.read_csv(\n",
    "    \"https://storage.googleapis.com/openimages/2018_04/train/train-annotations-human-imagelabels-boxable.csv\"\n",
    ")"
   ]
  },
  {
   "cell_type": "markdown",
   "metadata": {},
   "source": [
    "### Boxed images, train set, labels"
   ]
  },
  {
   "cell_type": "code",
   "execution_count": 12,
   "metadata": {},
   "outputs": [
    {
     "data": {
      "text/html": [
       "<div>\n",
       "<style scoped>\n",
       "    .dataframe tbody tr th:only-of-type {\n",
       "        vertical-align: middle;\n",
       "    }\n",
       "\n",
       "    .dataframe tbody tr th {\n",
       "        vertical-align: top;\n",
       "    }\n",
       "\n",
       "    .dataframe thead th {\n",
       "        text-align: right;\n",
       "    }\n",
       "</style>\n",
       "<table border=\"1\" class=\"dataframe\">\n",
       "  <thead>\n",
       "    <tr style=\"text-align: right;\">\n",
       "      <th></th>\n",
       "      <th>ImageID</th>\n",
       "      <th>Source</th>\n",
       "      <th>LabelName</th>\n",
       "      <th>Confidence</th>\n",
       "    </tr>\n",
       "  </thead>\n",
       "  <tbody>\n",
       "    <tr>\n",
       "      <th>0</th>\n",
       "      <td>000002b66c9c498e</td>\n",
       "      <td>verification</td>\n",
       "      <td>/m/014j1m</td>\n",
       "      <td>0</td>\n",
       "    </tr>\n",
       "    <tr>\n",
       "      <th>1</th>\n",
       "      <td>000002b66c9c498e</td>\n",
       "      <td>verification</td>\n",
       "      <td>/m/014sv8</td>\n",
       "      <td>1</td>\n",
       "    </tr>\n",
       "    <tr>\n",
       "      <th>2</th>\n",
       "      <td>000002b66c9c498e</td>\n",
       "      <td>verification</td>\n",
       "      <td>/m/01599</td>\n",
       "      <td>0</td>\n",
       "    </tr>\n",
       "    <tr>\n",
       "      <th>3</th>\n",
       "      <td>000002b66c9c498e</td>\n",
       "      <td>verification</td>\n",
       "      <td>/m/015p6</td>\n",
       "      <td>0</td>\n",
       "    </tr>\n",
       "    <tr>\n",
       "      <th>4</th>\n",
       "      <td>000002b66c9c498e</td>\n",
       "      <td>verification</td>\n",
       "      <td>/m/015x4r</td>\n",
       "      <td>0</td>\n",
       "    </tr>\n",
       "  </tbody>\n",
       "</table>\n",
       "</div>"
      ],
      "text/plain": [
       "            ImageID        Source  LabelName  Confidence\n",
       "0  000002b66c9c498e  verification  /m/014j1m           0\n",
       "1  000002b66c9c498e  verification  /m/014sv8           1\n",
       "2  000002b66c9c498e  verification   /m/01599           0\n",
       "3  000002b66c9c498e  verification   /m/015p6           0\n",
       "4  000002b66c9c498e  verification  /m/015x4r           0"
      ]
     },
     "execution_count": 12,
     "metadata": {},
     "output_type": "execute_result"
    }
   ],
   "source": [
    "train_annotations.head()"
   ]
  },
  {
   "cell_type": "markdown",
   "metadata": {},
   "source": [
    "`verification` images are certified by in-house labelers, `crowdsource-verification` images are crowdsourced via the Crowdsource app."
   ]
  },
  {
   "cell_type": "code",
   "execution_count": 13,
   "metadata": {},
   "outputs": [
    {
     "data": {
      "text/plain": [
       "verification                8659710\n",
       "crowdsource-verification     337085\n",
       "Name: Source, dtype: int64"
      ]
     },
     "execution_count": 13,
     "metadata": {},
     "output_type": "execute_result"
    }
   ],
   "source": [
    "train_annotations['Source'].value_counts()"
   ]
  },
  {
   "cell_type": "code",
   "execution_count": 14,
   "metadata": {},
   "outputs": [
    {
     "data": {
      "text/plain": [
       "/m/01g317    839436\n",
       "/m/09j2d     675650\n",
       "/m/04yx4     472414\n",
       "/m/05s2s     436288\n",
       "/m/07j7r     423757\n",
       "Name: LabelName, dtype: int64"
      ]
     },
     "execution_count": 14,
     "metadata": {},
     "output_type": "execute_result"
    }
   ],
   "source": [
    "train_annotations['LabelName'].value_counts().head()"
   ]
  },
  {
   "cell_type": "markdown",
   "metadata": {},
   "source": [
    "Confidences are 0 for confirmed negative and 1 for confirmed positive."
   ]
  },
  {
   "cell_type": "code",
   "execution_count": 15,
   "metadata": {},
   "outputs": [
    {
     "data": {
      "text/plain": [
       "1    6622219\n",
       "0    2374576\n",
       "Name: Confidence, dtype: int64"
      ]
     },
     "execution_count": 15,
     "metadata": {},
     "output_type": "execute_result"
    }
   ],
   "source": [
    "train_annotations['Confidence'].value_counts()"
   ]
  },
  {
   "cell_type": "markdown",
   "metadata": {},
   "source": [
    "...which does mean that certain images have tons of positive or negative labels populated in the record, interestingly enough."
   ]
  },
  {
   "cell_type": "code",
   "execution_count": 16,
   "metadata": {},
   "outputs": [
    {
     "data": {
      "text/plain": [
       "000020780ccee28d    140\n",
       "000002b97e5471a0    116\n",
       "000004f4400f6ec5     98\n",
       "0000333f08ced1cd     97\n",
       "0000071d71a0a6f6     93\n",
       "Name: ImageID, dtype: int64"
      ]
     },
     "execution_count": 16,
     "metadata": {},
     "output_type": "execute_result"
    }
   ],
   "source": [
    "train_annotations['ImageID'].value_counts().head()"
   ]
  },
  {
   "cell_type": "markdown",
   "metadata": {},
   "source": [
    "### Memory usage\n",
    "\n",
    "Still pretty small footprints."
   ]
  },
  {
   "cell_type": "code",
   "execution_count": 17,
   "metadata": {},
   "outputs": [
    {
     "name": "stdout",
     "output_type": "stream",
     "text": [
      "<class 'pandas.core.frame.DataFrame'>\n",
      "RangeIndex: 14610229 entries, 0 to 14610228\n",
      "Data columns (total 13 columns):\n",
      "ImageID        object\n",
      "Source         object\n",
      "LabelName      object\n",
      "Confidence     int64\n",
      "XMin           float64\n",
      "XMax           float64\n",
      "YMin           float64\n",
      "YMax           float64\n",
      "IsOccluded     int64\n",
      "IsTruncated    int64\n",
      "IsGroupOf      int64\n",
      "IsDepiction    int64\n",
      "IsInside       int64\n",
      "dtypes: float64(4), int64(6), object(3)\n",
      "memory usage: 1.4+ GB\n"
     ]
    }
   ],
   "source": [
    "train_boxed.info()"
   ]
  },
  {
   "cell_type": "code",
   "execution_count": 18,
   "metadata": {},
   "outputs": [
    {
     "name": "stdout",
     "output_type": "stream",
     "text": [
      "<class 'pandas.core.frame.DataFrame'>\n",
      "RangeIndex: 8996795 entries, 0 to 8996794\n",
      "Data columns (total 4 columns):\n",
      "ImageID       object\n",
      "Source        object\n",
      "LabelName     object\n",
      "Confidence    int64\n",
      "dtypes: int64(1), object(3)\n",
      "memory usage: 274.6+ MB\n"
     ]
    }
   ],
   "source": [
    "train_annotations.info()"
   ]
  },
  {
   "cell_type": "markdown",
   "metadata": {},
   "source": [
    "### Image IDs"
   ]
  },
  {
   "cell_type": "code",
   "execution_count": 19,
   "metadata": {},
   "outputs": [],
   "source": [
    "image_ids = pd.read_csv(\n",
    "    \"https://storage.googleapis.com/openimages/2018_04/train/train-images-boxable-with-rotation.csv\"\n",
    ")"
   ]
  },
  {
   "cell_type": "code",
   "execution_count": 20,
   "metadata": {},
   "outputs": [
    {
     "name": "stdout",
     "output_type": "stream",
     "text": [
      "<class 'pandas.core.frame.DataFrame'>\n",
      "RangeIndex: 1743042 entries, 0 to 1743041\n",
      "Data columns (total 12 columns):\n",
      "ImageID               object\n",
      "Subset                object\n",
      "OriginalURL           object\n",
      "OriginalLandingURL    object\n",
      "License               object\n",
      "AuthorProfileURL      object\n",
      "Author                object\n",
      "Title                 object\n",
      "OriginalSize          int64\n",
      "OriginalMD5           object\n",
      "Thumbnail300KURL      object\n",
      "Rotation              float64\n",
      "dtypes: float64(1), int64(1), object(10)\n",
      "memory usage: 159.6+ MB\n"
     ]
    }
   ],
   "source": [
    "image_ids.info()"
   ]
  },
  {
   "cell_type": "code",
   "execution_count": 21,
   "metadata": {},
   "outputs": [
    {
     "data": {
      "text/html": [
       "<div>\n",
       "<style scoped>\n",
       "    .dataframe tbody tr th:only-of-type {\n",
       "        vertical-align: middle;\n",
       "    }\n",
       "\n",
       "    .dataframe tbody tr th {\n",
       "        vertical-align: top;\n",
       "    }\n",
       "\n",
       "    .dataframe thead th {\n",
       "        text-align: right;\n",
       "    }\n",
       "</style>\n",
       "<table border=\"1\" class=\"dataframe\">\n",
       "  <thead>\n",
       "    <tr style=\"text-align: right;\">\n",
       "      <th></th>\n",
       "      <th>ImageID</th>\n",
       "      <th>Subset</th>\n",
       "      <th>OriginalURL</th>\n",
       "      <th>OriginalLandingURL</th>\n",
       "      <th>License</th>\n",
       "      <th>AuthorProfileURL</th>\n",
       "      <th>Author</th>\n",
       "      <th>Title</th>\n",
       "      <th>OriginalSize</th>\n",
       "      <th>OriginalMD5</th>\n",
       "      <th>Thumbnail300KURL</th>\n",
       "      <th>Rotation</th>\n",
       "    </tr>\n",
       "  </thead>\n",
       "  <tbody>\n",
       "    <tr>\n",
       "      <th>0</th>\n",
       "      <td>4fa8054781a4c382</td>\n",
       "      <td>train</td>\n",
       "      <td>https://farm3.staticflickr.com/5310/5898076654...</td>\n",
       "      <td>https://www.flickr.com/photos/michael-beat/589...</td>\n",
       "      <td>https://creativecommons.org/licenses/by/2.0/</td>\n",
       "      <td>https://www.flickr.com/people/michael-beat/</td>\n",
       "      <td>Michael Beat</td>\n",
       "      <td>...die FNF-Kerze</td>\n",
       "      <td>4405052</td>\n",
       "      <td>KFukvivpCM5QXl5SqKe41g==</td>\n",
       "      <td>https://c1.staticflickr.com/6/5310/5898076654_...</td>\n",
       "      <td>0.0</td>\n",
       "    </tr>\n",
       "    <tr>\n",
       "      <th>1</th>\n",
       "      <td>b37f763ae67d0888</td>\n",
       "      <td>train</td>\n",
       "      <td>https://c1.staticflickr.com/1/67/197493648_628...</td>\n",
       "      <td>https://www.flickr.com/photos/drstarbuck/19749...</td>\n",
       "      <td>https://creativecommons.org/licenses/by/2.0/</td>\n",
       "      <td>https://www.flickr.com/people/drstarbuck/</td>\n",
       "      <td>Karen</td>\n",
       "      <td>Three boys on a hill</td>\n",
       "      <td>494555</td>\n",
       "      <td>9IzEn38GRNsVpATuv7gzEA==</td>\n",
       "      <td>https://c3.staticflickr.com/1/67/197493648_628...</td>\n",
       "      <td>0.0</td>\n",
       "    </tr>\n",
       "    <tr>\n",
       "      <th>2</th>\n",
       "      <td>7e8584b0f487cb9e</td>\n",
       "      <td>train</td>\n",
       "      <td>https://c7.staticflickr.com/8/7056/7143870979_...</td>\n",
       "      <td>https://www.flickr.com/photos/circasassy/71438...</td>\n",
       "      <td>https://creativecommons.org/licenses/by/2.0/</td>\n",
       "      <td>https://www.flickr.com/people/circasassy/</td>\n",
       "      <td>CircaSassy</td>\n",
       "      <td>A Christmas carol and The cricket on the heart...</td>\n",
       "      <td>2371584</td>\n",
       "      <td>3hQwu0iSzY1VIoXiwp0/Mg==</td>\n",
       "      <td>https://c7.staticflickr.com/8/7056/7143870979_...</td>\n",
       "      <td>0.0</td>\n",
       "    </tr>\n",
       "    <tr>\n",
       "      <th>3</th>\n",
       "      <td>86638230febe21c4</td>\n",
       "      <td>train</td>\n",
       "      <td>https://farm5.staticflickr.com/5128/5301868579...</td>\n",
       "      <td>https://www.flickr.com/photos/ajcreencia/53018...</td>\n",
       "      <td>https://creativecommons.org/licenses/by/2.0/</td>\n",
       "      <td>https://www.flickr.com/people/ajcreencia/</td>\n",
       "      <td>Alex</td>\n",
       "      <td>Abbey and Kenny</td>\n",
       "      <td>949267</td>\n",
       "      <td>onB+rCZnGQg5PRX7xOs18Q==</td>\n",
       "      <td>https://c4.staticflickr.com/6/5128/5301868579_...</td>\n",
       "      <td>NaN</td>\n",
       "    </tr>\n",
       "    <tr>\n",
       "      <th>4</th>\n",
       "      <td>249086e72671397d</td>\n",
       "      <td>train</td>\n",
       "      <td>https://c6.staticflickr.com/4/3930/15342460029...</td>\n",
       "      <td>https://www.flickr.com/photos/codnewsroom/1534...</td>\n",
       "      <td>https://creativecommons.org/licenses/by/2.0/</td>\n",
       "      <td>https://www.flickr.com/people/codnewsroom/</td>\n",
       "      <td>COD Newsroom</td>\n",
       "      <td>Suburban Law Enforcement Academy 20th Annivers...</td>\n",
       "      <td>6541758</td>\n",
       "      <td>MjpaAVbMAWbCusSaxI1D7w==</td>\n",
       "      <td>https://c1.staticflickr.com/4/3930/15342460029...</td>\n",
       "      <td>0.0</td>\n",
       "    </tr>\n",
       "  </tbody>\n",
       "</table>\n",
       "</div>"
      ],
      "text/plain": [
       "            ImageID Subset                                        OriginalURL  \\\n",
       "0  4fa8054781a4c382  train  https://farm3.staticflickr.com/5310/5898076654...   \n",
       "1  b37f763ae67d0888  train  https://c1.staticflickr.com/1/67/197493648_628...   \n",
       "2  7e8584b0f487cb9e  train  https://c7.staticflickr.com/8/7056/7143870979_...   \n",
       "3  86638230febe21c4  train  https://farm5.staticflickr.com/5128/5301868579...   \n",
       "4  249086e72671397d  train  https://c6.staticflickr.com/4/3930/15342460029...   \n",
       "\n",
       "                                  OriginalLandingURL  \\\n",
       "0  https://www.flickr.com/photos/michael-beat/589...   \n",
       "1  https://www.flickr.com/photos/drstarbuck/19749...   \n",
       "2  https://www.flickr.com/photos/circasassy/71438...   \n",
       "3  https://www.flickr.com/photos/ajcreencia/53018...   \n",
       "4  https://www.flickr.com/photos/codnewsroom/1534...   \n",
       "\n",
       "                                        License  \\\n",
       "0  https://creativecommons.org/licenses/by/2.0/   \n",
       "1  https://creativecommons.org/licenses/by/2.0/   \n",
       "2  https://creativecommons.org/licenses/by/2.0/   \n",
       "3  https://creativecommons.org/licenses/by/2.0/   \n",
       "4  https://creativecommons.org/licenses/by/2.0/   \n",
       "\n",
       "                              AuthorProfileURL        Author  \\\n",
       "0  https://www.flickr.com/people/michael-beat/  Michael Beat   \n",
       "1    https://www.flickr.com/people/drstarbuck/         Karen   \n",
       "2    https://www.flickr.com/people/circasassy/    CircaSassy   \n",
       "3    https://www.flickr.com/people/ajcreencia/          Alex   \n",
       "4   https://www.flickr.com/people/codnewsroom/  COD Newsroom   \n",
       "\n",
       "                                               Title  OriginalSize  \\\n",
       "0                                   ...die FNF-Kerze       4405052   \n",
       "1                               Three boys on a hill        494555   \n",
       "2  A Christmas carol and The cricket on the heart...       2371584   \n",
       "3                                    Abbey and Kenny        949267   \n",
       "4  Suburban Law Enforcement Academy 20th Annivers...       6541758   \n",
       "\n",
       "                OriginalMD5  \\\n",
       "0  KFukvivpCM5QXl5SqKe41g==   \n",
       "1  9IzEn38GRNsVpATuv7gzEA==   \n",
       "2  3hQwu0iSzY1VIoXiwp0/Mg==   \n",
       "3  onB+rCZnGQg5PRX7xOs18Q==   \n",
       "4  MjpaAVbMAWbCusSaxI1D7w==   \n",
       "\n",
       "                                    Thumbnail300KURL  Rotation  \n",
       "0  https://c1.staticflickr.com/6/5310/5898076654_...       0.0  \n",
       "1  https://c3.staticflickr.com/1/67/197493648_628...       0.0  \n",
       "2  https://c7.staticflickr.com/8/7056/7143870979_...       0.0  \n",
       "3  https://c4.staticflickr.com/6/5128/5301868579_...       NaN  \n",
       "4  https://c1.staticflickr.com/4/3930/15342460029...       0.0  "
      ]
     },
     "execution_count": 21,
     "metadata": {},
     "output_type": "execute_result"
    }
   ],
   "source": [
    "image_ids.head()"
   ]
  },
  {
   "cell_type": "markdown",
   "metadata": {},
   "source": [
    "### Class labels"
   ]
  },
  {
   "cell_type": "code",
   "execution_count": 22,
   "metadata": {},
   "outputs": [],
   "source": [
    "class_names = pd.read_csv(\n",
    "    \"https://storage.googleapis.com/openimages/2018_04/class-descriptions-boxable.csv\", \n",
    "    header=None\n",
    ")\n",
    "class_names.columns = ['LabelID', 'LabelName']"
   ]
  },
  {
   "cell_type": "code",
   "execution_count": 23,
   "metadata": {},
   "outputs": [
    {
     "data": {
      "text/html": [
       "<div>\n",
       "<style scoped>\n",
       "    .dataframe tbody tr th:only-of-type {\n",
       "        vertical-align: middle;\n",
       "    }\n",
       "\n",
       "    .dataframe tbody tr th {\n",
       "        vertical-align: top;\n",
       "    }\n",
       "\n",
       "    .dataframe thead th {\n",
       "        text-align: right;\n",
       "    }\n",
       "</style>\n",
       "<table border=\"1\" class=\"dataframe\">\n",
       "  <thead>\n",
       "    <tr style=\"text-align: right;\">\n",
       "      <th></th>\n",
       "      <th>LabelID</th>\n",
       "      <th>LabelName</th>\n",
       "    </tr>\n",
       "  </thead>\n",
       "  <tbody>\n",
       "    <tr>\n",
       "      <th>0</th>\n",
       "      <td>/m/011k07</td>\n",
       "      <td>Tortoise</td>\n",
       "    </tr>\n",
       "    <tr>\n",
       "      <th>1</th>\n",
       "      <td>/m/011q46kg</td>\n",
       "      <td>Container</td>\n",
       "    </tr>\n",
       "    <tr>\n",
       "      <th>2</th>\n",
       "      <td>/m/012074</td>\n",
       "      <td>Magpie</td>\n",
       "    </tr>\n",
       "    <tr>\n",
       "      <th>3</th>\n",
       "      <td>/m/0120dh</td>\n",
       "      <td>Sea turtle</td>\n",
       "    </tr>\n",
       "    <tr>\n",
       "      <th>4</th>\n",
       "      <td>/m/01226z</td>\n",
       "      <td>Football</td>\n",
       "    </tr>\n",
       "  </tbody>\n",
       "</table>\n",
       "</div>"
      ],
      "text/plain": [
       "       LabelID   LabelName\n",
       "0    /m/011k07    Tortoise\n",
       "1  /m/011q46kg   Container\n",
       "2    /m/012074      Magpie\n",
       "3    /m/0120dh  Sea turtle\n",
       "4    /m/01226z    Football"
      ]
     },
     "execution_count": 23,
     "metadata": {},
     "output_type": "execute_result"
    }
   ],
   "source": [
    "class_names.head()"
   ]
  },
  {
   "cell_type": "markdown",
   "metadata": {},
   "source": [
    "### Write to disc"
   ]
  },
  {
   "cell_type": "markdown",
   "metadata": {},
   "source": [
    "This is optional, but now that we've examined the metadata it's helpful to write it to disk. We can then pass the filepaths to the `openimager`  downloader, which would otherwise have to go out and re-download these files itself, which is hella slow."
   ]
  },
  {
   "cell_type": "code",
   "execution_count": 30,
   "metadata": {},
   "outputs": [],
   "source": [
    "!mkdir '../data'\n",
    "!mkdir '../data/metadata/'"
   ]
  },
  {
   "cell_type": "code",
   "execution_count": 31,
   "metadata": {},
   "outputs": [],
   "source": [
    "train_boxed.to_csv(\"../data/metadata/train-annotations-bbox.csv\")"
   ]
  },
  {
   "cell_type": "code",
   "execution_count": 32,
   "metadata": {},
   "outputs": [],
   "source": [
    "train_annotations.to_csv(\"../data/metadata/train-annotations-human-imagelabels-boxable.csv\")"
   ]
  },
  {
   "cell_type": "code",
   "execution_count": 33,
   "metadata": {},
   "outputs": [],
   "source": [
    "image_ids.to_csv(\"../data/metadata/train-images-ids.csv\")"
   ]
  },
  {
   "cell_type": "code",
   "execution_count": 34,
   "metadata": {},
   "outputs": [],
   "source": [
    "class_names.to_csv(\"../data/metadata/image-class-names.csv\")"
   ]
  },
  {
   "cell_type": "markdown",
   "metadata": {},
   "source": [
    "### Explore classes\n",
    "\n",
    "OK let's look at some example class lists we can work with."
   ]
  },
  {
   "cell_type": "code",
   "execution_count": 91,
   "metadata": {},
   "outputs": [],
   "source": [
    "def get_class_labels(classes):\n",
    "    return class_names[class_names.LabelName.isin(classes)].sort_values(by='LabelName')\n",
    " \n",
    "def get_class_annotations_bboxed(classes):\n",
    "    class_key = get_class_labels(classes)\n",
    "    return train_boxed[train_boxed.LabelName.isin(class_key.LabelID)]\n",
    "\n",
    "def get_class_annotations_labeled(classes):\n",
    "    class_key = get_class_labels(classes)\n",
    "    return train_annotations[train_annotations.LabelName.isin(class_key.LabelID)]\n",
    "\n",
    "def class_availability_report(classes):\n",
    "    class_key = get_class_labels(classes)\n",
    "    df = pd.DataFrame(\n",
    "        index=class_key.LabelName,\n",
    "        data=\n",
    "        {\n",
    "            'LabelID': class_key.LabelID.values,\n",
    "            'n_bboxes': get_class_annotations_bboxed(classes).assign(n=0).groupby('LabelName').count().n.values,\n",
    "            'n_labels': get_class_annotations_labeled(classes).assign(n=0).groupby('LabelName').count().n.values\n",
    "        }\n",
    "    )\n",
    "    df['perc_bboxes'] = df.n_bboxes / (df.n_bboxes + df.n_labels)\n",
    "    df['perc_labels'] = df.n_labels / (df.n_bboxes + df.n_labels)\n",
    "    return df"
   ]
  },
  {
   "cell_type": "code",
   "execution_count": 97,
   "metadata": {},
   "outputs": [
    {
     "data": {
      "text/html": [
       "<div>\n",
       "<style scoped>\n",
       "    .dataframe tbody tr th:only-of-type {\n",
       "        vertical-align: middle;\n",
       "    }\n",
       "\n",
       "    .dataframe tbody tr th {\n",
       "        vertical-align: top;\n",
       "    }\n",
       "\n",
       "    .dataframe thead th {\n",
       "        text-align: right;\n",
       "    }\n",
       "</style>\n",
       "<table border=\"1\" class=\"dataframe\">\n",
       "  <thead>\n",
       "    <tr style=\"text-align: right;\">\n",
       "      <th></th>\n",
       "      <th>LabelID</th>\n",
       "      <th>n_bboxes</th>\n",
       "      <th>n_labels</th>\n",
       "      <th>perc_bboxes</th>\n",
       "      <th>perc_labels</th>\n",
       "    </tr>\n",
       "    <tr>\n",
       "      <th>LabelName</th>\n",
       "      <th></th>\n",
       "      <th></th>\n",
       "      <th></th>\n",
       "      <th></th>\n",
       "      <th></th>\n",
       "    </tr>\n",
       "  </thead>\n",
       "  <tbody>\n",
       "    <tr>\n",
       "      <th>Apple</th>\n",
       "      <td>/m/014j1m</td>\n",
       "      <td>3898</td>\n",
       "      <td>1894</td>\n",
       "      <td>0.672997</td>\n",
       "      <td>0.327003</td>\n",
       "    </tr>\n",
       "    <tr>\n",
       "      <th>Banana</th>\n",
       "      <td>/m/09qck</td>\n",
       "      <td>26236</td>\n",
       "      <td>15553</td>\n",
       "      <td>0.627821</td>\n",
       "      <td>0.372179</td>\n",
       "    </tr>\n",
       "    <tr>\n",
       "      <th>Cantaloupe</th>\n",
       "      <td>/m/0kpt_</td>\n",
       "      <td>2787</td>\n",
       "      <td>1484</td>\n",
       "      <td>0.652540</td>\n",
       "      <td>0.347460</td>\n",
       "    </tr>\n",
       "    <tr>\n",
       "      <th>Common fig</th>\n",
       "      <td>/m/043nyj</td>\n",
       "      <td>317</td>\n",
       "      <td>471</td>\n",
       "      <td>0.402284</td>\n",
       "      <td>0.597716</td>\n",
       "    </tr>\n",
       "    <tr>\n",
       "      <th>Fruit</th>\n",
       "      <td>/m/02xwb</td>\n",
       "      <td>923</td>\n",
       "      <td>688</td>\n",
       "      <td>0.572936</td>\n",
       "      <td>0.427064</td>\n",
       "    </tr>\n",
       "    <tr>\n",
       "      <th>Grape</th>\n",
       "      <td>/m/0388q</td>\n",
       "      <td>7944</td>\n",
       "      <td>1887</td>\n",
       "      <td>0.808056</td>\n",
       "      <td>0.191944</td>\n",
       "    </tr>\n",
       "    <tr>\n",
       "      <th>Grapefruit</th>\n",
       "      <td>/m/0hqkz</td>\n",
       "      <td>6254</td>\n",
       "      <td>2056</td>\n",
       "      <td>0.752587</td>\n",
       "      <td>0.247413</td>\n",
       "    </tr>\n",
       "    <tr>\n",
       "      <th>Lemon</th>\n",
       "      <td>/m/09k_b</td>\n",
       "      <td>1756</td>\n",
       "      <td>1276</td>\n",
       "      <td>0.579156</td>\n",
       "      <td>0.420844</td>\n",
       "    </tr>\n",
       "    <tr>\n",
       "      <th>Mango</th>\n",
       "      <td>/m/0fldg</td>\n",
       "      <td>1612</td>\n",
       "      <td>1487</td>\n",
       "      <td>0.520168</td>\n",
       "      <td>0.479832</td>\n",
       "    </tr>\n",
       "    <tr>\n",
       "      <th>Orange</th>\n",
       "      <td>/m/0cyhj_</td>\n",
       "      <td>6195</td>\n",
       "      <td>1686</td>\n",
       "      <td>0.786068</td>\n",
       "      <td>0.213932</td>\n",
       "    </tr>\n",
       "    <tr>\n",
       "      <th>Peach</th>\n",
       "      <td>/m/0dj6p</td>\n",
       "      <td>756</td>\n",
       "      <td>615</td>\n",
       "      <td>0.551422</td>\n",
       "      <td>0.448578</td>\n",
       "    </tr>\n",
       "    <tr>\n",
       "      <th>Pear</th>\n",
       "      <td>/m/061_f</td>\n",
       "      <td>429</td>\n",
       "      <td>568</td>\n",
       "      <td>0.430291</td>\n",
       "      <td>0.569709</td>\n",
       "    </tr>\n",
       "    <tr>\n",
       "      <th>Pineapple</th>\n",
       "      <td>/m/0fp6w</td>\n",
       "      <td>660</td>\n",
       "      <td>744</td>\n",
       "      <td>0.470085</td>\n",
       "      <td>0.529915</td>\n",
       "    </tr>\n",
       "    <tr>\n",
       "      <th>Pomegranate</th>\n",
       "      <td>/m/0jwn_</td>\n",
       "      <td>1283</td>\n",
       "      <td>1001</td>\n",
       "      <td>0.561734</td>\n",
       "      <td>0.438266</td>\n",
       "    </tr>\n",
       "    <tr>\n",
       "      <th>Strawberry</th>\n",
       "      <td>/m/07fbm7</td>\n",
       "      <td>677</td>\n",
       "      <td>615</td>\n",
       "      <td>0.523994</td>\n",
       "      <td>0.476006</td>\n",
       "    </tr>\n",
       "    <tr>\n",
       "      <th>Tomato</th>\n",
       "      <td>/m/07j87</td>\n",
       "      <td>844</td>\n",
       "      <td>833</td>\n",
       "      <td>0.503280</td>\n",
       "      <td>0.496720</td>\n",
       "    </tr>\n",
       "    <tr>\n",
       "      <th>Watermelon</th>\n",
       "      <td>/m/0kpqd</td>\n",
       "      <td>166</td>\n",
       "      <td>457</td>\n",
       "      <td>0.266453</td>\n",
       "      <td>0.733547</td>\n",
       "    </tr>\n",
       "  </tbody>\n",
       "</table>\n",
       "</div>"
      ],
      "text/plain": [
       "               LabelID  n_bboxes  n_labels  perc_bboxes  perc_labels\n",
       "LabelName                                                           \n",
       "Apple        /m/014j1m      3898      1894     0.672997     0.327003\n",
       "Banana        /m/09qck     26236     15553     0.627821     0.372179\n",
       "Cantaloupe    /m/0kpt_      2787      1484     0.652540     0.347460\n",
       "Common fig   /m/043nyj       317       471     0.402284     0.597716\n",
       "Fruit         /m/02xwb       923       688     0.572936     0.427064\n",
       "Grape         /m/0388q      7944      1887     0.808056     0.191944\n",
       "Grapefruit    /m/0hqkz      6254      2056     0.752587     0.247413\n",
       "Lemon         /m/09k_b      1756      1276     0.579156     0.420844\n",
       "Mango         /m/0fldg      1612      1487     0.520168     0.479832\n",
       "Orange       /m/0cyhj_      6195      1686     0.786068     0.213932\n",
       "Peach         /m/0dj6p       756       615     0.551422     0.448578\n",
       "Pear          /m/061_f       429       568     0.430291     0.569709\n",
       "Pineapple     /m/0fp6w       660       744     0.470085     0.529915\n",
       "Pomegranate   /m/0jwn_      1283      1001     0.561734     0.438266\n",
       "Strawberry   /m/07fbm7       677       615     0.523994     0.476006\n",
       "Tomato        /m/07j87       844       833     0.503280     0.496720\n",
       "Watermelon    /m/0kpqd       166       457     0.266453     0.733547"
      ]
     },
     "execution_count": 97,
     "metadata": {},
     "output_type": "execute_result"
    }
   ],
   "source": [
    "class_availability_report([\n",
    "    'Apple', 'Grape', 'Pear', 'Common fig', 'Strawberry', 'Tomato', 'Lemon', 'Banana', 'Orange', 'Peach',\n",
    "    'Mango', 'Pineapple', 'Grapefruit', 'Pomegranate', 'Watermelon', 'Cantaloupe', 'Fruit'\n",
    "])"
   ]
  },
  {
   "cell_type": "code",
   "execution_count": 98,
   "metadata": {},
   "outputs": [
    {
     "data": {
      "text/html": [
       "<div>\n",
       "<style scoped>\n",
       "    .dataframe tbody tr th:only-of-type {\n",
       "        vertical-align: middle;\n",
       "    }\n",
       "\n",
       "    .dataframe tbody tr th {\n",
       "        vertical-align: top;\n",
       "    }\n",
       "\n",
       "    .dataframe thead th {\n",
       "        text-align: right;\n",
       "    }\n",
       "</style>\n",
       "<table border=\"1\" class=\"dataframe\">\n",
       "  <thead>\n",
       "    <tr style=\"text-align: right;\">\n",
       "      <th></th>\n",
       "      <th>LabelID</th>\n",
       "      <th>n_bboxes</th>\n",
       "      <th>n_labels</th>\n",
       "      <th>perc_bboxes</th>\n",
       "      <th>perc_labels</th>\n",
       "    </tr>\n",
       "    <tr>\n",
       "      <th>LabelName</th>\n",
       "      <th></th>\n",
       "      <th></th>\n",
       "      <th></th>\n",
       "      <th></th>\n",
       "      <th></th>\n",
       "    </tr>\n",
       "  </thead>\n",
       "  <tbody>\n",
       "    <tr>\n",
       "      <th>Airplane</th>\n",
       "      <td>/m/0cmf2</td>\n",
       "      <td>447</td>\n",
       "      <td>931</td>\n",
       "      <td>0.324383</td>\n",
       "      <td>0.675617</td>\n",
       "    </tr>\n",
       "    <tr>\n",
       "      <th>Ambulance</th>\n",
       "      <td>/m/012n7d</td>\n",
       "      <td>2755</td>\n",
       "      <td>3140</td>\n",
       "      <td>0.467345</td>\n",
       "      <td>0.532655</td>\n",
       "    </tr>\n",
       "    <tr>\n",
       "      <th>Barge</th>\n",
       "      <td>/m/01btn</td>\n",
       "      <td>40161</td>\n",
       "      <td>42694</td>\n",
       "      <td>0.484714</td>\n",
       "      <td>0.515286</td>\n",
       "    </tr>\n",
       "    <tr>\n",
       "      <th>Bicycle</th>\n",
       "      <td>/m/0199g</td>\n",
       "      <td>11927</td>\n",
       "      <td>21984</td>\n",
       "      <td>0.351715</td>\n",
       "      <td>0.648285</td>\n",
       "    </tr>\n",
       "    <tr>\n",
       "      <th>Bus</th>\n",
       "      <td>/m/01bjv</td>\n",
       "      <td>983</td>\n",
       "      <td>848</td>\n",
       "      <td>0.536865</td>\n",
       "      <td>0.463135</td>\n",
       "    </tr>\n",
       "    <tr>\n",
       "      <th>Canoe</th>\n",
       "      <td>/m/0ph39</td>\n",
       "      <td>366</td>\n",
       "      <td>781</td>\n",
       "      <td>0.319093</td>\n",
       "      <td>0.680907</td>\n",
       "    </tr>\n",
       "    <tr>\n",
       "      <th>Cart</th>\n",
       "      <td>/m/018p4k</td>\n",
       "      <td>366</td>\n",
       "      <td>430</td>\n",
       "      <td>0.459799</td>\n",
       "      <td>0.540201</td>\n",
       "    </tr>\n",
       "    <tr>\n",
       "      <th>Golf cart</th>\n",
       "      <td>/m/0323sq</td>\n",
       "      <td>543</td>\n",
       "      <td>724</td>\n",
       "      <td>0.428571</td>\n",
       "      <td>0.571429</td>\n",
       "    </tr>\n",
       "    <tr>\n",
       "      <th>Gondola</th>\n",
       "      <td>/m/02068x</td>\n",
       "      <td>1868</td>\n",
       "      <td>1024</td>\n",
       "      <td>0.645920</td>\n",
       "      <td>0.354080</td>\n",
       "    </tr>\n",
       "    <tr>\n",
       "      <th>Helicopter</th>\n",
       "      <td>/m/09ct_</td>\n",
       "      <td>595</td>\n",
       "      <td>616</td>\n",
       "      <td>0.491329</td>\n",
       "      <td>0.508671</td>\n",
       "    </tr>\n",
       "    <tr>\n",
       "      <th>Jet ski</th>\n",
       "      <td>/m/01xs3r</td>\n",
       "      <td>13382</td>\n",
       "      <td>8063</td>\n",
       "      <td>0.624015</td>\n",
       "      <td>0.375985</td>\n",
       "    </tr>\n",
       "    <tr>\n",
       "      <th>Limousine</th>\n",
       "      <td>/m/01lcw4</td>\n",
       "      <td>81</td>\n",
       "      <td>454</td>\n",
       "      <td>0.151402</td>\n",
       "      <td>0.848598</td>\n",
       "    </tr>\n",
       "    <tr>\n",
       "      <th>Motorcycle</th>\n",
       "      <td>/m/04_sv</td>\n",
       "      <td>565</td>\n",
       "      <td>692</td>\n",
       "      <td>0.449483</td>\n",
       "      <td>0.550517</td>\n",
       "    </tr>\n",
       "    <tr>\n",
       "      <th>Rocket</th>\n",
       "      <td>/m/09rvcxw</td>\n",
       "      <td>1716</td>\n",
       "      <td>1831</td>\n",
       "      <td>0.483789</td>\n",
       "      <td>0.516211</td>\n",
       "    </tr>\n",
       "    <tr>\n",
       "      <th>Segway</th>\n",
       "      <td>/m/076bq</td>\n",
       "      <td>13050</td>\n",
       "      <td>24817</td>\n",
       "      <td>0.344627</td>\n",
       "      <td>0.655373</td>\n",
       "    </tr>\n",
       "    <tr>\n",
       "      <th>Snowmobile</th>\n",
       "      <td>/m/01x3jk</td>\n",
       "      <td>12135</td>\n",
       "      <td>10528</td>\n",
       "      <td>0.535454</td>\n",
       "      <td>0.464546</td>\n",
       "    </tr>\n",
       "    <tr>\n",
       "      <th>Submarine</th>\n",
       "      <td>/m/074d1</td>\n",
       "      <td>50959</td>\n",
       "      <td>268935</td>\n",
       "      <td>0.159300</td>\n",
       "      <td>0.840700</td>\n",
       "    </tr>\n",
       "    <tr>\n",
       "      <th>Tank</th>\n",
       "      <td>/m/07cmd</td>\n",
       "      <td>3023</td>\n",
       "      <td>3201</td>\n",
       "      <td>0.485701</td>\n",
       "      <td>0.514299</td>\n",
       "    </tr>\n",
       "    <tr>\n",
       "      <th>Taxi</th>\n",
       "      <td>/m/0pg52</td>\n",
       "      <td>918</td>\n",
       "      <td>983</td>\n",
       "      <td>0.482904</td>\n",
       "      <td>0.517096</td>\n",
       "    </tr>\n",
       "    <tr>\n",
       "      <th>Train</th>\n",
       "      <td>/m/07jdr</td>\n",
       "      <td>21285</td>\n",
       "      <td>14611</td>\n",
       "      <td>0.592963</td>\n",
       "      <td>0.407037</td>\n",
       "    </tr>\n",
       "    <tr>\n",
       "      <th>Truck</th>\n",
       "      <td>/m/07r04</td>\n",
       "      <td>194</td>\n",
       "      <td>543</td>\n",
       "      <td>0.263229</td>\n",
       "      <td>0.736771</td>\n",
       "    </tr>\n",
       "    <tr>\n",
       "      <th>Unicycle</th>\n",
       "      <td>/m/0f6nr</td>\n",
       "      <td>7720</td>\n",
       "      <td>6891</td>\n",
       "      <td>0.528369</td>\n",
       "      <td>0.471631</td>\n",
       "    </tr>\n",
       "    <tr>\n",
       "      <th>Van</th>\n",
       "      <td>/m/0h2r6</td>\n",
       "      <td>4199</td>\n",
       "      <td>2232</td>\n",
       "      <td>0.652931</td>\n",
       "      <td>0.347069</td>\n",
       "    </tr>\n",
       "    <tr>\n",
       "      <th>Vehicle</th>\n",
       "      <td>/m/07yv9</td>\n",
       "      <td>4543</td>\n",
       "      <td>2885</td>\n",
       "      <td>0.611605</td>\n",
       "      <td>0.388395</td>\n",
       "    </tr>\n",
       "    <tr>\n",
       "      <th>Wheelchair</th>\n",
       "      <td>/m/0qmmr</td>\n",
       "      <td>1464</td>\n",
       "      <td>1634</td>\n",
       "      <td>0.472563</td>\n",
       "      <td>0.527437</td>\n",
       "    </tr>\n",
       "  </tbody>\n",
       "</table>\n",
       "</div>"
      ],
      "text/plain": [
       "               LabelID  n_bboxes  n_labels  perc_bboxes  perc_labels\n",
       "LabelName                                                           \n",
       "Airplane      /m/0cmf2       447       931     0.324383     0.675617\n",
       "Ambulance    /m/012n7d      2755      3140     0.467345     0.532655\n",
       "Barge         /m/01btn     40161     42694     0.484714     0.515286\n",
       "Bicycle       /m/0199g     11927     21984     0.351715     0.648285\n",
       "Bus           /m/01bjv       983       848     0.536865     0.463135\n",
       "Canoe         /m/0ph39       366       781     0.319093     0.680907\n",
       "Cart         /m/018p4k       366       430     0.459799     0.540201\n",
       "Golf cart    /m/0323sq       543       724     0.428571     0.571429\n",
       "Gondola      /m/02068x      1868      1024     0.645920     0.354080\n",
       "Helicopter    /m/09ct_       595       616     0.491329     0.508671\n",
       "Jet ski      /m/01xs3r     13382      8063     0.624015     0.375985\n",
       "Limousine    /m/01lcw4        81       454     0.151402     0.848598\n",
       "Motorcycle    /m/04_sv       565       692     0.449483     0.550517\n",
       "Rocket      /m/09rvcxw      1716      1831     0.483789     0.516211\n",
       "Segway        /m/076bq     13050     24817     0.344627     0.655373\n",
       "Snowmobile   /m/01x3jk     12135     10528     0.535454     0.464546\n",
       "Submarine     /m/074d1     50959    268935     0.159300     0.840700\n",
       "Tank          /m/07cmd      3023      3201     0.485701     0.514299\n",
       "Taxi          /m/0pg52       918       983     0.482904     0.517096\n",
       "Train         /m/07jdr     21285     14611     0.592963     0.407037\n",
       "Truck         /m/07r04       194       543     0.263229     0.736771\n",
       "Unicycle      /m/0f6nr      7720      6891     0.528369     0.471631\n",
       "Van           /m/0h2r6      4199      2232     0.652931     0.347069\n",
       "Vehicle       /m/07yv9      4543      2885     0.611605     0.388395\n",
       "Wheelchair    /m/0qmmr      1464      1634     0.472563     0.527437"
      ]
     },
     "execution_count": 98,
     "metadata": {},
     "output_type": "execute_result"
    }
   ],
   "source": [
    "class_availability_report([\n",
    "    'Rocket', 'Airplane', 'Helicopter', 'Submarine', 'Jet ski', 'Canoe', 'Gondola', 'Barge',\n",
    "    'Wheelchair', 'Taxi', 'Van', 'Limousine', 'Unicycle', 'Truck', 'Train', 'Tank', 'Segway',\n",
    "    'Motorcycle', 'Golf cart', 'Snowmobile', 'Bus', 'Bicycle', 'Cart', 'Ambulance',\n",
    "    'Vehicle'\n",
    "])"
   ]
  }
 ],
 "metadata": {
  "kernelspec": {
   "display_name": "Python 3",
   "language": "python",
   "name": "python3"
  },
  "language_info": {
   "codemirror_mode": {
    "name": "ipython",
    "version": 3
   },
   "file_extension": ".py",
   "mimetype": "text/x-python",
   "name": "python",
   "nbconvert_exporter": "python",
   "pygments_lexer": "ipython3",
   "version": "3.6.6"
  }
 },
 "nbformat": 4,
 "nbformat_minor": 2
}
